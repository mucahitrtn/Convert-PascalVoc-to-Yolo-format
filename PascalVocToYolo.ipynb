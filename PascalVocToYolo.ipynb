{
  "nbformat": 4,
  "nbformat_minor": 0,
  "metadata": {
    "colab": {
      "name": "PascalVocToYolo.ipynb",
      "provenance": [],
      "collapsed_sections": [],
      "mount_file_id": "1qq2OJLsPTepIOScTDIl9eZrZZt0WU9tb",
      "authorship_tag": "ABX9TyNk/ACVKILAzM3hpa4xvhBF",
      "include_colab_link": true
    },
    "kernelspec": {
      "name": "python3",
      "display_name": "Python 3"
    },
    "language_info": {
      "name": "python"
    }
  },
  "cells": [
    {
      "cell_type": "markdown",
      "metadata": {
        "id": "view-in-github",
        "colab_type": "text"
      },
      "source": [
        "<a href=\"https://colab.research.google.com/github/mucahitrtn/Convert-PascalVoc-to-Yolo-format/blob/main/PascalVocToYolo.ipynb\" target=\"_parent\"><img src=\"https://colab.research.google.com/assets/colab-badge.svg\" alt=\"Open In Colab\"/></a>"
      ]
    },
    {
      "cell_type": "code",
      "source": [
        "# -*- coding: utf-8 -*-\n",
        "\"\"\"\n",
        "Created on Wed May  4 22:01:24 2022\n",
        "\n",
        "@author: mucahitrtn\n",
        "\"\"\"\n",
        "\n",
        "from bs4 import BeautifulSoup\n",
        "import glob\n",
        "import pandas as pd\n",
        "import numpy as np\n",
        "\n",
        "\n",
        "class Pascal_to_yolo_format:\n",
        "  \n",
        "  def __init__(self, pathSrc, pathDest):\n",
        "    self.pathSrc  = pathSrc\n",
        "    self.pathDest = pathDest\n",
        "    \n",
        "  def listToPd(self, xmlObj):\n",
        "    elements = [\"class\", \"xmin\", \"ymin\", \"xmax\", \"ymax\", \"name\"]\n",
        "    elements_pd = [\"class\", \"xmin\", \"ymin\", \"xmax\", \"ymax\", \"ClassName\"]\n",
        "    df = pd.DataFrame(columns=elements_pd)\n",
        "\n",
        "    for i in xmlObj:\n",
        "      temp = []\n",
        "      for element in elements:\n",
        "        temp_idx = i.find(element)\n",
        "        temp_idx= temp_idx.prettify()\n",
        "        temp_idx_arr= temp_idx.split()\n",
        "        temp.append(temp_idx_arr[1])\n",
        "      df_length = len(df)\n",
        "      df.loc[df_length] = temp\n",
        "    return df\n",
        "\n",
        "  def parsePath(self, pathXml):\n",
        "      arr_splitted = pathXml.split('/')\n",
        "      last = arr_splitted[-1]\n",
        "      last_splitted = last.split('.')\n",
        "      imgName = last_splitted[0]\n",
        "      return imgName\n",
        "      \n",
        "  def createYoloTxt(self, yoloFormat_df, imgName):\n",
        "    np.savetxt(r''+self.pathDest+'/'+imgName+'.txt', yoloFormat_df.values, fmt='%d %f %f %f %f')  \n",
        "\n",
        "  def pascalVocToYolo(self, df, imgWidth, imgHeight):\n",
        "    yolo_idx = [\"class\", \"x_center\",\"y_center\",\"width\", \"height\"]\n",
        "    df_yolo = pd.DataFrame(columns= yolo_idx)\n",
        "\n",
        "    for idx in range(len(df)):\n",
        "      x_center = float(((float(df.iloc[idx][\"xmin\"]) + float(df.iloc[idx][\"xmax\"]))/2)/imgWidth)\n",
        "      y_center = float(((float(df.iloc[idx][\"ymin\"]) + float(df.iloc[idx][\"ymax\"]))/2)/imgHeight)\n",
        "      width  = float((float(df.iloc[idx][\"xmax\"]) - float(df.iloc[idx][\"xmin\"]))/imgWidth) \n",
        "      height = float((float(df.iloc[idx][\"ymax\"]) - float(df.iloc[idx][\"ymin\"]))/imgHeight)\n",
        "\n",
        "      temp_arr = [int(df.iloc[idx][0]),x_center, y_center, width, height]\n",
        "      temp = (temp_arr)\n",
        "      df_length = len(df_yolo)\n",
        "      df_yolo.loc[df_length] = temp\n",
        " \n",
        "    return df_yolo  \n",
        "\n",
        "  def convert(self):\n",
        "    xmlFiles = glob.glob(self.pathSrc)\n",
        "\n",
        "    for i in xmlFiles:\n",
        "      with open(i, 'r') as f:\n",
        "        data = f.read()\n",
        "      imgName = self.parsePath(i)   \n",
        "      sign = BeautifulSoup(data, \"xml\")\n",
        "      imgWidth  = sign.find('width').prettify().split()\n",
        "      imgHeight = sign.find('height').prettify().split() \n",
        "      objects = sign.find_all('object')\n",
        "      vocFormat_df  = self.listToPd(objects)\n",
        "      yoloFormat_df = self.pascalVocToYolo(vocFormat_df, float(imgWidth[1]), float(imgHeight[1]))\n",
        "      self.createYoloTxt(yoloFormat_df, imgName)  \n",
        "\n",
        "\n",
        "pathSrc = \"/content/op/traffic_signs_dataset_v1/train/*.xml\"\n",
        "pathDest = \"/content/destFold\"\n",
        "\n",
        "cvt = Pascal_to_yolo_format(pathSrc, pathDest)\n",
        "cvt.convert()\n",
        "\n"
      ],
      "metadata": {
        "id": "msGRZqyZaCqV"
      },
      "execution_count": 7,
      "outputs": []
    }
  ]
}